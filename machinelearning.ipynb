{
  "nbformat": 4,
  "nbformat_minor": 0,
  "metadata": {
    "colab": {
      "provenance": []
    },
    "kernelspec": {
      "name": "python3",
      "display_name": "Python 3"
    },
    "language_info": {
      "name": "python"
    }
  },
  "cells": [
    {
      "cell_type": "code",
      "execution_count": null,
      "metadata": {
        "id": "-bHCE-6OFw97"
      },
      "outputs": [],
      "source": []
    },
    {
      "cell_type": "markdown",
      "source": [
        "answer 1:- parameter is a variable that helps the model in learning the algorithm adjusts during training to fit the data"
      ],
      "metadata": {
        "id": "_pM1AT_eF3aa"
      }
    },
    {
      "cell_type": "markdown",
      "source": [
        "answer 2:- correlation measures strenght and direction of a linear relationship between two variables\n",
        "negative correlation means it means one variable increases and the other one decreases"
      ],
      "metadata": {
        "id": "LewGHZcQG9uP"
      }
    },
    {
      "cell_type": "markdown",
      "source": [],
      "metadata": {
        "id": "rY3_nu8OKFHC"
      }
    },
    {
      "cell_type": "markdown",
      "source": [
        "answer 3:-ML is a method of teaching computers to learn from data"
      ],
      "metadata": {
        "id": "wmqRVWMRHVi3"
      }
    },
    {
      "cell_type": "markdown",
      "source": [
        "answer 4:- lower loss indicates better model performance because it shows how far predictions are from real/original values"
      ],
      "metadata": {
        "id": "Ebl5xV5dHhW0"
      }
    },
    {
      "cell_type": "markdown",
      "source": [
        "answer 5:-continuous variables means numeric with infinite value and categorical variables means labels /categories"
      ],
      "metadata": {
        "id": "nXmL-cnKHwZi"
      }
    },
    {
      "cell_type": "markdown",
      "source": [
        "answer 6:- by encoding them using methods like labels encoding"
      ],
      "metadata": {
        "id": "6aPjxD5hIEHc"
      }
    },
    {
      "cell_type": "markdown",
      "source": [
        "answer 7:-training is building the model with data ,and testing means"
      ],
      "metadata": {
        "id": "26Rq1OdkINPQ"
      }
    },
    {
      "cell_type": "markdown",
      "source": [
        "answer 8:-it is a module in scikit learn for data preprocessing like scaling ,encoding ,and normalization"
      ],
      "metadata": {
        "id": "lDvYoJPPIVCO"
      }
    },
    {
      "cell_type": "markdown",
      "source": [
        "answer 9:- a subset of data used to assess model performance after training"
      ],
      "metadata": {
        "id": "4myuBVxpInMI"
      }
    },
    {
      "cell_type": "markdown",
      "source": [
        "answer10:- using train_test_split() from sklearn.model_ selection\n",
        "we approach it by using 1-train-test method,2- model training and performance, 3-overfitting and underfitting ,4-bias and variance"
      ],
      "metadata": {
        "id": "lrGvDcUjIwbx"
      }
    },
    {
      "cell_type": "markdown",
      "source": [
        "answer11:- to understand data patterns ,detect the outliers and decide preprocessing steps"
      ],
      "metadata": {
        "id": "caRxC98UI8Y1"
      }
    },
    {
      "cell_type": "markdown",
      "source": [
        "answer 12:- correlation measures strenght and direction of a linear relationship between two variables"
      ],
      "metadata": {
        "id": "zlwuuXVJKG_m"
      }
    },
    {
      "cell_type": "markdown",
      "source": [
        "answer 13:- it means one variable increases and the other one decreases"
      ],
      "metadata": {
        "id": "Di1_RNwuKKWs"
      }
    },
    {
      "cell_type": "markdown",
      "source": [
        "answer 14:-using df.corr()"
      ],
      "metadata": {
        "id": "ttujx_-wKTo7"
      }
    },
    {
      "cell_type": "markdown",
      "source": [
        "answer 15:-causation means one variable affect another one directly"
      ],
      "metadata": {
        "id": "u8YrR44oKg1t"
      }
    },
    {
      "cell_type": "markdown",
      "source": [
        "answer 16:-optimizers adjust model parameters to reduce loss"
      ],
      "metadata": {
        "id": "woAaxInpK4lY"
      }
    },
    {
      "cell_type": "markdown",
      "source": [
        "answer 17:-it is model used for implementing linear models like linear regression"
      ],
      "metadata": {
        "id": "0cSmIGH3LPSd"
      }
    },
    {
      "cell_type": "markdown",
      "source": [
        "answer 18:-it trains the models on data arguments training data x,label y"
      ],
      "metadata": {
        "id": "jZiF_XDCLgIx"
      }
    },
    {
      "cell_type": "markdown",
      "source": [
        "answer 19:-it makes the prediction using the trained model argument input data x"
      ],
      "metadata": {
        "id": "j6lTHif4L-AK"
      }
    },
    {
      "cell_type": "markdown",
      "source": [
        "answer 20:-continuous variables means numeric with infinite value and categorical variables means labels /categories\n",
        "\n"
      ],
      "metadata": {
        "id": "ekOGD-6KMOPt"
      }
    },
    {
      "cell_type": "markdown",
      "source": [
        "answer 21:-feature scaling tries to bring all the features on the same scale\n",
        "because it helps in model accuracy and training speed"
      ],
      "metadata": {
        "id": "55YUvkVmMe-x"
      }
    },
    {
      "cell_type": "markdown",
      "source": [
        "answer22:-to perform scaling we use standardisation,normalisation and unit vector"
      ],
      "metadata": {
        "id": "iWfdxhJuNGOW"
      }
    },
    {
      "cell_type": "markdown",
      "source": [
        "answer 23:-sklearn.preprocessing is a module for data preprocessing like scaling,encoding and normalisation\n"
      ],
      "metadata": {
        "id": "SV7piWKzNevA"
      }
    },
    {
      "cell_type": "markdown",
      "source": [
        "answer 24:-by using train_test_split()"
      ],
      "metadata": {
        "id": "H_Q6JTyyOCol"
      }
    },
    {
      "cell_type": "markdown",
      "source": [
        "answer 25:- data encoding means converting the categorical data into numeric data"
      ],
      "metadata": {
        "id": "KvomfJA8OQE8"
      }
    },
    {
      "cell_type": "markdown",
      "source": [],
      "metadata": {
        "id": "v2EXLqy8YdHH"
      }
    },
    {
      "cell_type": "markdown",
      "source": [],
      "metadata": {
        "id": "vRv2pcqbJ7bz"
      }
    }
  ]
}